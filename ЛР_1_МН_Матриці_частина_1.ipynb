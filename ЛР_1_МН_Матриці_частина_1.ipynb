{
  "nbformat": 4,
  "nbformat_minor": 0,
  "metadata": {
    "colab": {
      "provenance": []
    },
    "kernelspec": {
      "name": "python3",
      "display_name": "Python 3"
    },
    "language_info": {
      "name": "python"
    }
  },
  "cells": [
    {
      "cell_type": "code",
      "execution_count": null,
      "metadata": {
        "colab": {
          "base_uri": "https://localhost:8080/",
          "height": 35
        },
        "id": "JcgyKR2xujAU",
        "outputId": "d2c48741-8bde-4d01-b3df-cf96fa22ffbc"
      },
      "outputs": [
        {
          "output_type": "execute_result",
          "data": {
            "text/plain": [
              "'2.0.2'"
            ],
            "application/vnd.google.colaboratory.intrinsic+json": {
              "type": "string"
            }
          },
          "metadata": {},
          "execution_count": 1
        }
      ],
      "source": [
        "import numpy as np\n",
        "\n",
        "np.__version__"
      ]
    },
    {
      "cell_type": "markdown",
      "source": [
        "1. Створити матрицю 3х3 і заповнити її випадковими числами від 1 до 5"
      ],
      "metadata": {
        "id": "ivhsVsxY0I7N"
      }
    },
    {
      "cell_type": "code",
      "source": [
        "matrix = np.random.randint(1, 6, size=(3, 3))\n",
        "matrix"
      ],
      "metadata": {
        "colab": {
          "base_uri": "https://localhost:8080/"
        },
        "id": "ZHM49gVVzpvv",
        "outputId": "1946dbc1-96b7-449b-ec9c-97d4bc48e036"
      },
      "execution_count": null,
      "outputs": [
        {
          "output_type": "execute_result",
          "data": {
            "text/plain": [
              "array([[5, 4, 2],\n",
              "       [2, 5, 4],\n",
              "       [3, 1, 1]])"
            ]
          },
          "metadata": {},
          "execution_count": 2
        }
      ]
    },
    {
      "cell_type": "markdown",
      "source": [
        "2. Обчислити визначник матриці"
      ],
      "metadata": {
        "id": "qTptiiN50OyB"
      }
    },
    {
      "cell_type": "code",
      "source": [
        "det = np.linalg.det(matrix)\n",
        "det"
      ],
      "metadata": {
        "colab": {
          "base_uri": "https://localhost:8080/"
        },
        "id": "GyRwmIc3zz22",
        "outputId": "cc67c2a5-668d-4d1a-c168-f8119aa68fba"
      },
      "execution_count": null,
      "outputs": [
        {
          "output_type": "execute_result",
          "data": {
            "text/plain": [
              "np.float64(19.000000000000004)"
            ]
          },
          "metadata": {},
          "execution_count": 3
        }
      ]
    },
    {
      "cell_type": "markdown",
      "source": [
        "3. Знайти добуток всіх елементів матриці"
      ],
      "metadata": {
        "id": "ni0QZmiX0WLO"
      }
    },
    {
      "cell_type": "code",
      "source": [
        "product = np.prod(matrix)\n",
        "product"
      ],
      "metadata": {
        "colab": {
          "base_uri": "https://localhost:8080/"
        },
        "id": "uCsBnp1I0w9P",
        "outputId": "f661ab13-f194-409d-bfa8-0d578979e4d2"
      },
      "execution_count": null,
      "outputs": [
        {
          "output_type": "execute_result",
          "data": {
            "text/plain": [
              "np.int64(4800)"
            ]
          },
          "metadata": {},
          "execution_count": 4
        }
      ]
    },
    {
      "cell_type": "code",
      "source": [
        "prod_1 = np.prod(matrix[0])\n",
        "prod_2 = np.prod(matrix[1])\n",
        "prod_3 = np.prod(matrix[2])\n",
        "prod_1 * prod_2 * prod_3"
      ],
      "metadata": {
        "colab": {
          "base_uri": "https://localhost:8080/"
        },
        "id": "yPYbD9cq1NWC",
        "outputId": "37acdc74-dc99-4e23-88d5-20c27939f674"
      },
      "execution_count": null,
      "outputs": [
        {
          "output_type": "execute_result",
          "data": {
            "text/plain": [
              "np.int64(4800)"
            ]
          },
          "metadata": {},
          "execution_count": 5
        }
      ]
    },
    {
      "cell_type": "markdown",
      "source": [
        "4. Знайти суму всіх елементів в матриці"
      ],
      "metadata": {
        "id": "umDWzrhn1YMI"
      }
    },
    {
      "cell_type": "code",
      "source": [
        "sum = np.sum(matrix)\n",
        "sum"
      ],
      "metadata": {
        "colab": {
          "base_uri": "https://localhost:8080/"
        },
        "id": "LGQIjHMl1bCh",
        "outputId": "e297e711-af5c-4d3e-ea53-44a75f50b780"
      },
      "execution_count": null,
      "outputs": [
        {
          "output_type": "execute_result",
          "data": {
            "text/plain": [
              "np.int64(27)"
            ]
          },
          "metadata": {},
          "execution_count": 6
        }
      ]
    },
    {
      "cell_type": "markdown",
      "source": [
        "5. Обчислити найбільший, найменший елементи"
      ],
      "metadata": {
        "id": "KoNgGVTf2SsF"
      }
    },
    {
      "cell_type": "code",
      "source": [
        "max_element = np.max(matrix)\n",
        "min_element = np.min(matrix)\n",
        "\n",
        "print(f\"Найбільший елемент матриці {max_element}\")\n",
        "print(f\"Найменший елемент матриці {min_element}\")"
      ],
      "metadata": {
        "colab": {
          "base_uri": "https://localhost:8080/"
        },
        "id": "NoqzdIw_2Xbv",
        "outputId": "91982d92-59a5-4326-8771-ded35e54ea35"
      },
      "execution_count": null,
      "outputs": [
        {
          "output_type": "stream",
          "name": "stdout",
          "text": [
            "Найбільший елемент матриці 5\n",
            "Найменший елемент матриці 1\n"
          ]
        }
      ]
    },
    {
      "cell_type": "markdown",
      "source": [
        "6. Знайти середніє значення елементів матриці"
      ],
      "metadata": {
        "id": "L68ti5Vi261g"
      }
    },
    {
      "cell_type": "code",
      "source": [
        "mean = np.mean(matrix)\n",
        "mean"
      ],
      "metadata": {
        "colab": {
          "base_uri": "https://localhost:8080/"
        },
        "id": "r0xOTyYk2-EF",
        "outputId": "c67c8baa-23ed-4b97-988f-119d1b69ca6b"
      },
      "execution_count": null,
      "outputs": [
        {
          "output_type": "execute_result",
          "data": {
            "text/plain": [
              "np.float64(3.0)"
            ]
          },
          "metadata": {},
          "execution_count": 9
        }
      ]
    },
    {
      "cell_type": "markdown",
      "source": [
        "7. Знайти матрицю, що складена з квадратних коренів"
      ],
      "metadata": {
        "id": "6ah9wCu45cNX"
      }
    },
    {
      "cell_type": "code",
      "source": [
        "sqrt_matrix = np.sqrt(matrix)\n",
        "sqrt_matrix"
      ],
      "metadata": {
        "colab": {
          "base_uri": "https://localhost:8080/"
        },
        "id": "CR8HqAYv5iZ1",
        "outputId": "92519d85-04a1-4508-860d-7229bc5b7065"
      },
      "execution_count": null,
      "outputs": [
        {
          "output_type": "execute_result",
          "data": {
            "text/plain": [
              "array([[2.23606798, 2.        , 1.41421356],\n",
              "       [1.41421356, 2.23606798, 2.        ],\n",
              "       [1.73205081, 1.        , 1.        ]])"
            ]
          },
          "metadata": {},
          "execution_count": 10
        }
      ]
    },
    {
      "cell_type": "markdown",
      "source": [
        "8. Обчислити суму елементів кожного рядка. Відповідь записати як вектор-стовпчик"
      ],
      "metadata": {
        "id": "ompyC-lS5lxN"
      }
    },
    {
      "cell_type": "code",
      "source": [
        "row_sums = np.sum(matrix, axis=1).reshape(-1, 1)\n",
        "print(f\"Сума елементів кожного рядка\\n{row_sums}\")"
      ],
      "metadata": {
        "colab": {
          "base_uri": "https://localhost:8080/"
        },
        "id": "NwI6oRiz5sad",
        "outputId": "69af1a5f-e6d6-4362-d3b0-ba56dc2acf24"
      },
      "execution_count": null,
      "outputs": [
        {
          "output_type": "stream",
          "name": "stdout",
          "text": [
            "Сума елементів кожного рядка\n",
            "[[11]\n",
            " [11]\n",
            " [ 5]]\n"
          ]
        }
      ]
    },
    {
      "cell_type": "markdown",
      "source": [
        "9. Створити вектор, що містить 25 елементів. Заповнити від 0 до 9. Відсортувати за спаданням"
      ],
      "metadata": {
        "id": "OUWg2Yjo723m"
      }
    },
    {
      "cell_type": "code",
      "source": [
        "vector = np.random.randint(0, 10, size = 25)\n",
        "\n",
        "print(f\"Початковий вектор:\\n{vector}\")\n",
        "\n",
        "# Сортуємо числа за спаданням\n",
        "sorted_vector = np.sort(vector)[::-1]\n",
        "\n",
        "print(f\"Вектор після сортування:\\n{sorted_vector}\")\n"
      ],
      "metadata": {
        "colab": {
          "base_uri": "https://localhost:8080/"
        },
        "id": "h56T5w5s7-la",
        "outputId": "b10e1724-04dd-40d8-fcfd-1e8c5a453495"
      },
      "execution_count": null,
      "outputs": [
        {
          "output_type": "stream",
          "name": "stdout",
          "text": [
            "Початковий вектор:\n",
            "[8 3 7 5 5 9 9 3 7 9 8 9 6 2 9 3 0 0 9 7 5 0 6 8 5]\n",
            "Вектор після сортування:\n",
            "[9 9 9 9 9 9 8 8 8 7 7 7 6 6 5 5 5 5 3 3 3 2 0 0 0]\n"
          ]
        }
      ]
    },
    {
      "cell_type": "markdown",
      "source": [
        "10. Знайти моду, медіану, середнє, максимальне, мінімальне значення"
      ],
      "metadata": {
        "id": "nEOACoZq9GuA"
      }
    },
    {
      "cell_type": "code",
      "source": [
        "from scipy import stats\n",
        "\n",
        "#Знаходимо моду\n",
        "mode = stats.mode(vector)\n",
        "\n",
        "#Знаходимо медіану\n",
        "median = np.median(vector)\n",
        "\n",
        "#Знаходимо середнє\n",
        "mean = np.mean(vector)\n",
        "\n",
        "#Знаходимо максимальне значення\n",
        "max_value = np.max(vector)\n",
        "\n",
        "#Знаходимо мінімальне значення\n",
        "min_value = np.min(vector)\n",
        "\n",
        "#Виводимо значення\n",
        "print(f\"{mode}\\n{median}\\n{mean}\\n{max_value}\\n{min_value}\")"
      ],
      "metadata": {
        "colab": {
          "base_uri": "https://localhost:8080/"
        },
        "id": "ADI2Uud49LZm",
        "outputId": "da3bbbc0-e8fb-48c6-ee83-657fbaa54bf7"
      },
      "execution_count": null,
      "outputs": [
        {
          "output_type": "stream",
          "name": "stdout",
          "text": [
            "ModeResult(mode=np.int64(9), count=np.int64(6))\n",
            "6.0\n",
            "5.68\n",
            "9\n",
            "0\n"
          ]
        }
      ]
    },
    {
      "cell_type": "markdown",
      "source": [
        "11. Створити дві матриці 4х4, заповнені числави від 1 до 10. Обчислити суму, різницю, поелеметний добуток, частку"
      ],
      "metadata": {
        "id": "fMv-1GRR_U5Y"
      }
    },
    {
      "cell_type": "code",
      "source": [
        "matrix_1 = np.random.randint(1, 11, size = (4, 4))\n",
        "matrix_2 = np.random.randint(1, 11, size = (4, 4))\n",
        "\n",
        "print(f\"Матриця 1:\\n{matrix_1}\\nМатриця 2:\\n{matrix_2}\")\n",
        "\n",
        "matrix_sum = matrix_1 + matrix_2\n",
        "print(f\"Сума\\n{matrix_sum}\")\n",
        "\n",
        "matrix_diff = matrix_1 - matrix_2\n",
        "print(f\"Різниця\\n{matrix_diff}\")\n",
        "\n",
        "matrix_prod = matrix_1 * matrix_2\n",
        "print(f\"Добуток\\n{matrix_prod}\")\n",
        "\n",
        "matrix_division = np.divide(matrix_1, matrix_2)\n",
        "print(f\"Частка\\n{matrix_division}\")"
      ],
      "metadata": {
        "colab": {
          "base_uri": "https://localhost:8080/"
        },
        "id": "MqAAO1aX_d2K",
        "outputId": "2394fdf9-74af-46b3-ff7c-dabebbd5ed83"
      },
      "execution_count": null,
      "outputs": [
        {
          "output_type": "stream",
          "name": "stdout",
          "text": [
            "Матриця 1:\n",
            "[[ 7  1  8  5]\n",
            " [ 1  2  6 10]\n",
            " [ 5  2  9  1]\n",
            " [ 8  4  1  2]]\n",
            "Матриця 2:\n",
            "[[7 6 7 8]\n",
            " [7 7 5 9]\n",
            " [3 2 7 6]\n",
            " [5 4 2 8]]\n",
            "Сума\n",
            "[[14  7 15 13]\n",
            " [ 8  9 11 19]\n",
            " [ 8  4 16  7]\n",
            " [13  8  3 10]]\n",
            "Різниця\n",
            "[[ 0 -5  1 -3]\n",
            " [-6 -5  1  1]\n",
            " [ 2  0  2 -5]\n",
            " [ 3  0 -1 -6]]\n",
            "Добуток\n",
            "[[49  6 56 40]\n",
            " [ 7 14 30 90]\n",
            " [15  4 63  6]\n",
            " [40 16  2 16]]\n",
            "Частка\n",
            "[[1.         0.16666667 1.14285714 0.625     ]\n",
            " [0.14285714 0.28571429 1.2        1.11111111]\n",
            " [1.66666667 1.         1.28571429 0.16666667]\n",
            " [1.6        1.         0.5        0.25      ]]\n"
          ]
        }
      ]
    },
    {
      "cell_type": "markdown",
      "source": [
        "Висновок: в результаті виконання лабораторної роботи я розвинув навички роботи з бібліотекою numpy мови програмування Python"
      ],
      "metadata": {
        "id": "3qBztp2eDTLV"
      }
    }
  ]
}